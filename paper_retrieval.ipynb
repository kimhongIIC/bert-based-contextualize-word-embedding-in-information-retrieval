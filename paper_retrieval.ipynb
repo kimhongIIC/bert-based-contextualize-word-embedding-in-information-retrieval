{
 "cells": [
  {
   "cell_type": "markdown",
   "metadata": {},
   "source": [
    "## Dependencies"
   ]
  },
  {
   "cell_type": "code",
   "execution_count": 1,
   "metadata": {},
   "outputs": [
    {
     "name": "stderr",
     "output_type": "stream",
     "text": [
      "d:\\Year 5\\LLM\\BERT\\env\\lib\\site-packages\\tqdm\\auto.py:21: TqdmWarning: IProgress not found. Please update jupyter and ipywidgets. See https://ipywidgets.readthedocs.io/en/stable/user_install.html\n",
      "  from .autonotebook import tqdm as notebook_tqdm\n",
      "[nltk_data] Downloading package punkt to C:\\Users\\MSI-\n",
      "[nltk_data]     PC\\AppData\\Roaming\\nltk_data...\n",
      "[nltk_data]   Package punkt is already up-to-date!\n",
      "[nltk_data] Downloading package stopwords to C:\\Users\\MSI-\n",
      "[nltk_data]     PC\\AppData\\Roaming\\nltk_data...\n",
      "[nltk_data]   Package stopwords is already up-to-date!\n",
      "[nltk_data] Downloading package wordnet to C:\\Users\\MSI-\n",
      "[nltk_data]     PC\\AppData\\Roaming\\nltk_data...\n",
      "[nltk_data]   Package wordnet is already up-to-date!\n",
      "[nltk_data] Downloading package punkt_tab to C:\\Users\\MSI-\n",
      "[nltk_data]     PC\\AppData\\Roaming\\nltk_data...\n",
      "[nltk_data]   Package punkt_tab is already up-to-date!\n"
     ]
    },
    {
     "data": {
      "text/plain": [
       "True"
      ]
     },
     "execution_count": 1,
     "metadata": {},
     "output_type": "execute_result"
    }
   ],
   "source": [
    "import pandas as pd\n",
    "from collections import Counter\n",
    "import nltk\n",
    "import re\n",
    "from nltk.tokenize import word_tokenize\n",
    "from nltk.corpus import stopwords\n",
    "from nltk.stem import WordNetLemmatizer\n",
    "from gensim.corpora.dictionary import Dictionary\n",
    "from gensim.models import LdaModel\n",
    "from sentence_transformers import SentenceTransformer, util\n",
    "import torch\n",
    "\n",
    "nltk.download('punkt')\n",
    "nltk.download('stopwords')\n",
    "nltk.download('wordnet')\n",
    "nltk.download('punkt_tab')"
   ]
  },
  {
   "cell_type": "markdown",
   "metadata": {},
   "source": [
    "## Text Processing"
   ]
  },
  {
   "cell_type": "code",
   "execution_count": 2,
   "metadata": {},
   "outputs": [],
   "source": [
    "def preprocess_text(text):\n",
    "    if not isinstance(text, str):  # Handle cases where text is NaN or not a string\n",
    "        return ''\n",
    "    tokens = word_tokenize(text.lower())\n",
    "    tokens = [word for word in tokens if word.isalpha()]\n",
    "    stop_words = set(stopwords.words('english'))\n",
    "    tokens = [word for word in tokens if word not in stop_words]\n",
    "    lemmatizer = WordNetLemmatizer()\n",
    "    tokens = [lemmatizer.lemmatize(word) for word in tokens]\n",
    "    return ' '.join(tokens)"
   ]
  },
  {
   "cell_type": "code",
   "execution_count": 3,
   "metadata": {},
   "outputs": [
    {
     "data": {
      "text/html": [
       "<div>\n",
       "<style scoped>\n",
       "    .dataframe tbody tr th:only-of-type {\n",
       "        vertical-align: middle;\n",
       "    }\n",
       "\n",
       "    .dataframe tbody tr th {\n",
       "        vertical-align: top;\n",
       "    }\n",
       "\n",
       "    .dataframe thead th {\n",
       "        text-align: right;\n",
       "    }\n",
       "</style>\n",
       "<table border=\"1\" class=\"dataframe\">\n",
       "  <thead>\n",
       "    <tr style=\"text-align: right;\">\n",
       "      <th></th>\n",
       "      <th>title</th>\n",
       "      <th>processed_title</th>\n",
       "    </tr>\n",
       "  </thead>\n",
       "  <tbody>\n",
       "    <tr>\n",
       "      <th>499996</th>\n",
       "      <td>s t bipartite graphs</td>\n",
       "      <td>bipartite graph</td>\n",
       "    </tr>\n",
       "    <tr>\n",
       "      <th>499997</th>\n",
       "      <td>the odinus mission concept the scientific case...</td>\n",
       "      <td>odinus mission concept scientific case mission...</td>\n",
       "    </tr>\n",
       "    <tr>\n",
       "      <th>499998</th>\n",
       "      <td>the simplified topological algorithms for acce...</td>\n",
       "      <td>simplified topological algorithm accelerating ...</td>\n",
       "    </tr>\n",
       "    <tr>\n",
       "      <th>499999</th>\n",
       "      <td>introducing quantified cuts in logic with equa...</td>\n",
       "      <td>introducing quantified cut logic equality</td>\n",
       "    </tr>\n",
       "  </tbody>\n",
       "</table>\n",
       "</div>"
      ],
      "text/plain": [
       "                                                    title  \\\n",
       "499996                               s t bipartite graphs   \n",
       "499997  the odinus mission concept the scientific case...   \n",
       "499998  the simplified topological algorithms for acce...   \n",
       "499999  introducing quantified cuts in logic with equa...   \n",
       "\n",
       "                                          processed_title  \n",
       "499996                                    bipartite graph  \n",
       "499997  odinus mission concept scientific case mission...  \n",
       "499998  simplified topological algorithm accelerating ...  \n",
       "499999          introducing quantified cut logic equality  "
      ]
     },
     "execution_count": 3,
     "metadata": {},
     "output_type": "execute_result"
    }
   ],
   "source": [
    "data = pd.read_csv('updated500k_arXivDataset.csv')\n",
    "data.tail(4)"
   ]
  },
  {
   "cell_type": "code",
   "execution_count": 4,
   "metadata": {},
   "outputs": [],
   "source": [
    "# Drop rows with empty cleaned titles\n",
    "data = data[data['processed_title'] != '']"
   ]
  },
  {
   "cell_type": "markdown",
   "metadata": {},
   "source": [
    "## Model setup"
   ]
  },
  {
   "cell_type": "code",
   "execution_count": null,
   "metadata": {},
   "outputs": [],
   "source": [
    "model = SentenceTransformer('all-MiniLM-L6-v2')"
   ]
  },
  {
   "cell_type": "code",
   "execution_count": null,
   "metadata": {},
   "outputs": [],
   "source": [
    "# save sentence bert model\n",
    "model.save('saved_model/sbert_model') "
   ]
  },
  {
   "cell_type": "code",
   "execution_count": null,
   "metadata": {},
   "outputs": [],
   "source": [
    "# Generate embeddings for all cleaned titles\n",
    "title_embeddings = model.encode(data['processed_title'].tolist(), convert_to_tensor=True)"
   ]
  },
  {
   "cell_type": "code",
   "execution_count": null,
   "metadata": {},
   "outputs": [],
   "source": [
    "# Save the title embeddings\n",
    "torch.save(title_embeddings, 'saved_model/title_embeddings_v2.pt')"
   ]
  },
  {
   "cell_type": "markdown",
   "metadata": {},
   "source": [
    "## User input"
   ]
  },
  {
   "cell_type": "code",
   "execution_count": 5,
   "metadata": {},
   "outputs": [
    {
     "name": "stderr",
     "output_type": "stream",
     "text": [
      "C:\\Users\\MSI-PC\\AppData\\Local\\Temp\\ipykernel_21796\\115525532.py:3: FutureWarning: You are using `torch.load` with `weights_only=False` (the current default value), which uses the default pickle module implicitly. It is possible to construct malicious pickle data which will execute arbitrary code during unpickling (See https://github.com/pytorch/pytorch/blob/main/SECURITY.md#untrusted-models for more details). In a future release, the default value for `weights_only` will be flipped to `True`. This limits the functions that could be executed during unpickling. Arbitrary objects will no longer be allowed to be loaded via this mode unless they are explicitly allowlisted by the user via `torch.serialization.add_safe_globals`. We recommend you start setting `weights_only=True` for any use case where you don't have full control of the loaded file. Please open an issue on GitHub for any issues related to this experimental feature.\n",
      "  title_embeddings = torch.load('saved_model/title_embeddings_v2.pt', map_location=device)\n"
     ]
    }
   ],
   "source": [
    "device = torch.device(\"cpu\")\n",
    "model = SentenceTransformer('saved_model/sbert_model', device=device)\n",
    "title_embeddings = torch.load('saved_model/title_embeddings_v2.pt', map_location=device)"
   ]
  },
  {
   "cell_type": "code",
   "execution_count": 6,
   "metadata": {},
   "outputs": [],
   "source": [
    "def search_titles(user_query, top_k=5):\n",
    "    \"\"\"\n",
    "    Searches for the most similar titles to the user's query.\n",
    "    \"\"\"\n",
    "    # Check for invalid input\n",
    "    if not user_query or not isinstance(user_query, str):\n",
    "        return [(\"Invalid query. Please provide a valid string.\", 0)]\n",
    "\n",
    "    # Preprocess the query\n",
    "    processed_query = preprocess_text(user_query)\n",
    "\n",
    "    # Check if preprocessing results in an empty string\n",
    "    if not processed_query:\n",
    "        return [(\"The query doesn't contain meaningful content after preprocessing.\", 0)]\n",
    "\n",
    "    # Generate embedding for the query\n",
    "    query_embedding = model.encode(processed_query, convert_to_tensor=True)\n",
    "\n",
    "    # Compute similarity scores\n",
    "    similarity_scores = util.cos_sim(query_embedding, title_embeddings)\n",
    "\n",
    "    # Combine original titles, processed titles, and scores\n",
    "    combined_results = list(zip(data['title'], data['processed_title'], similarity_scores.squeeze().tolist()))\n",
    "\n",
    "    # Sort results based on similarity scores\n",
    "    sorted_results = sorted(combined_results, key=lambda x: x[2], reverse=True)[:top_k]\n",
    "\n",
    "    # Return only the original title and similarity score\n",
    "    return [(original_title, score) for original_title, processed_title, score in sorted_results]\n"
   ]
  },
  {
   "cell_type": "code",
   "execution_count": 7,
   "metadata": {},
   "outputs": [
    {
     "name": "stdout",
     "output_type": "stream",
     "text": [
      "Query: Introduction to Artificial Intelligence\n",
      "  Title: artificial intelligence in humans, Similarity Score: 0.6449\n",
      "  Title: an introduction to automata, Similarity Score: 0.6250\n",
      "  Title: second order swarm intelligence, Similarity Score: 0.5871\n",
      "  Title: a definition of artificial intelligence, Similarity Score: 0.5780\n",
      "  Title: swarm intelligence, Similarity Score: 0.5738\n",
      "\n"
     ]
    }
   ],
   "source": [
    "# Example queries\n",
    "test_queries = [\n",
    "    \"Introduction to Artificial Intelligence\",\n",
    "]\n",
    "\n",
    "# Test the function\n",
    "for query in test_queries:\n",
    "    print(f\"Query: {query}\")\n",
    "    results = search_titles(query, top_k=5)\n",
    "    for title, score in results:\n",
    "        print(f\"  Title: {title}, Similarity Score: {score:.4f}\")\n",
    "    print()"
   ]
  },
  {
   "cell_type": "code",
   "execution_count": null,
   "metadata": {},
   "outputs": [],
   "source": []
  }
 ],
 "metadata": {
  "kernelspec": {
   "display_name": "Python 3",
   "language": "python",
   "name": "python3"
  },
  "language_info": {
   "codemirror_mode": {
    "name": "ipython",
    "version": 3
   },
   "file_extension": ".py",
   "mimetype": "text/x-python",
   "name": "python",
   "nbconvert_exporter": "python",
   "pygments_lexer": "ipython3",
   "version": "3.9.0"
  }
 },
 "nbformat": 4,
 "nbformat_minor": 2
}
